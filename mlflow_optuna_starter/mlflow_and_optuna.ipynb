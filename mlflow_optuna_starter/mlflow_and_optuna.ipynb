{
  "nbformat": 4,
  "nbformat_minor": 0,
  "metadata": {
    "colab": {
      "provenance": [],
      "authorship_tag": "ABX9TyObIDpHtpCEaHR/9PCoc2Ag",
      "include_colab_link": true
    },
    "kernelspec": {
      "name": "python3",
      "display_name": "Python 3"
    },
    "language_info": {
      "name": "python"
    }
  },
  "cells": [
    {
      "cell_type": "markdown",
      "metadata": {
        "id": "view-in-github",
        "colab_type": "text"
      },
      "source": [
        "<a href=\"https://colab.research.google.com/github/SenolIsci/MLOps-Starters/blob/main/mlflow_optuna_starter/mlflow_and_optuna.ipynb\" target=\"_parent\"><img src=\"https://colab.research.google.com/assets/colab-badge.svg\" alt=\"Open In Colab\"/></a>"
      ]
    },
    {
      "cell_type": "markdown",
      "source": [
        "#MLFLOW\n",
        "\n"
      ],
      "metadata": {
        "id": "4Cf71QE4bUvj"
      }
    },
    {
      "cell_type": "markdown",
      "source": [
        "##MLFLOW installation\n",
        "on windows machine with miniconda installed\n",
        "\n",
        "###create mlflow conda env\n",
        "\"\"\"\n",
        "\tconda create –name mlflow\n",
        "\tconda activate mlflow\n",
        "'''\n",
        "###use conda to install mlflow inside mlflow env\n",
        "\n",
        "\tconda install -c conda-forge mlflow\n",
        "\"\"\"\n",
        "##Running MLflow Projects\n",
        "\n",
        "run example from a local mlflow project from \n",
        "\"\"\"\n",
        "\tcd \"to the local folder\"\n",
        "\tmlflow run sklearn_elasticnet_wine -P alpha=0.5 --env-manager=local\n",
        "\tmlflow run https://github.com/mlflow/mlflow-example.git -P alpha=5.0 --env-manager=local\n",
        "\"\"\"\n",
        "##Monitor runs\n",
        "from new conda command line\n",
        "\"\"\"\n",
        "\tmlflow ui\n",
        "\"\"\"\n",
        "##Saving and Serving Model\n",
        "cd \"to project local folder\"\n",
        "inside mlflow environment:\n",
        "\"\"\"\n",
        "\tpython sklearn_logistic_regression/train.py\n",
        "\"\"\"\n",
        "from new conda command line\n",
        "\"\"\"\n",
        "\tmlflow models serve -m runs:/<RUN_ID>/model --no-conda\n",
        "with another port \n",
        "\tmlflow models serve -m runs:/<RUN_ID>/model --no-conda --port 12345\n",
        "\"\"\"\n",
        "\n",
        "#Run instance and get predictions\n",
        "open a cmd terminal\n",
        "\"\"\"\n",
        "\tcurl -d \"{\\\"dataframe_split\\\": {\\\"columns\\\": [\\\"x\\\"], \\\"data\\\":[[1],[-1]]}}\" -H \"Content-Type: application/json\" -X POST localhost:5000/invocations\n",
        "\"\"\"\n",
        "result will be \n",
        "{\"predictions\": [1, 0]}\n"
      ],
      "metadata": {
        "id": "M6igBukXbkYl"
      }
    },
    {
      "cell_type": "markdown",
      "source": [
        "OPTUNA AND MLFLOW INTEGRATION"
      ],
      "metadata": {
        "id": "6n8_iBvFblLX"
      }
    },
    {
      "cell_type": "markdown",
      "source": [
        "\tpip install optuna"
      ],
      "metadata": {
        "id": "rIcmBJAxdJ0n"
      }
    },
    {
      "cell_type": "markdown",
      "source": [
        "##MLflowCallback\n",
        "\n",
        "\"\"\"\"\n",
        "optuna.integration.MLflowCallback\n",
        "Callback to track Optuna trials with MLflow.\n",
        "\n",
        "This callback adds relevant information that is tracked by Optuna to MLflow.\n",
        "\"\"\""
      ],
      "metadata": {
        "id": "pTC4IlFSdYwX"
      }
    },
    {
      "cell_type": "code",
      "source": [
        "import optuna\n",
        "from optuna.integration.mlflow import MLflowCallback\n",
        "import mlflow\n",
        "\n",
        "\n",
        "def objective(trial):\n",
        "    x = trial.suggest_float(\"x\", -10, 10)\n",
        "    return (x - 2) ** 2\n",
        "\n",
        "\n",
        "mlflc = MLflowCallback(\n",
        "    tracking_uri=mlflow.get_tracking_uri(),\n",
        "    metric_name=\"my metric score\",\n",
        ")\n",
        "\n",
        "study = optuna.create_study(study_name=\"my_study\")\n",
        "study.optimize(objective, n_trials=10, callbacks=[mlflc])\n"
      ],
      "metadata": {
        "id": "sAJHiaoadW-A"
      },
      "execution_count": null,
      "outputs": []
    },
    {
      "cell_type": "markdown",
      "source": [
        "then run \"mlflow ui\" to see the results in the web browser"
      ],
      "metadata": {
        "id": "jBqrzI7zd5bb"
      }
    },
    {
      "cell_type": "markdown",
      "source": [
        "##THE DECORATOR track_in_mlflow()\n",
        "\n",
        "\"\"\"\n",
        "optuna.integration.MLflowCallback\n",
        "Callback to track Optuna trials with MLflow.\n",
        "\n",
        "This callback adds relevant information that is tracked by Optuna to MLflow.\n",
        "track_in_mlflow(): Decorator for using MLflow logging in the objective function.\n",
        "\n",
        "This decorator enables the extension of MLflow logging provided by the callback.\n",
        "\n",
        "All information logged in the decorated objective function will be added to the MLflow run for the trial created by the callback.\n",
        "\"\"\""
      ],
      "metadata": {
        "id": "JUOD0y-BdmXQ"
      }
    },
    {
      "cell_type": "code",
      "source": [
        "\n",
        "import optuna\n",
        "from optuna.integration.mlflow import MLflowCallback\n",
        "import mlflow\n",
        "mlflc = MLflowCallback(\n",
        "    tracking_uri=mlflow.get_tracking_uri(),\n",
        "    metric_name=\"my metric score\",\n",
        ")\n",
        "\n",
        "@mlflc.track_in_mlflow()\n",
        "def objective(trial):\n",
        "    x = trial.suggest_float(\"x\", -10, 10)\n",
        "    mlflow.log_param(\"power\", 2)\n",
        "    mlflow.log_metric(\"base of metric\", x - 2)\n",
        "\n",
        "    return (x - 2) ** 2\n",
        "\n",
        "\n",
        "study = optuna.create_study(study_name=\"my_other_study\")\n",
        "study.optimize(objective, n_trials=10, callbacks=[mlflc])\n",
        "\n",
        "\n",
        "study = optuna.create_study(study_name=\"my_study\")\n",
        "study.optimize(objective, n_trials=10, callbacks=[mlflc])\n"
      ],
      "metadata": {
        "id": "2VJ-tDR6deX4"
      },
      "execution_count": null,
      "outputs": []
    },
    {
      "cell_type": "code",
      "source": [
        "then run if not before, \"mlflow ui\" to see the results in the web browser"
      ],
      "metadata": {
        "id": "TKfsaoveeEv0"
      },
      "execution_count": null,
      "outputs": []
    }
  ]
}